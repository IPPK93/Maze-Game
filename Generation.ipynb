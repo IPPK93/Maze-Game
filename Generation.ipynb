{
 "cells": [
  {
   "cell_type": "code",
   "execution_count": 3,
   "metadata": {},
   "outputs": [],
   "source": [
    "from enum import Enum\n",
    "import random"
   ]
  },
  {
   "cell_type": "code",
   "execution_count": 12,
   "metadata": {},
   "outputs": [
    {
     "name": "stdout",
     "output_type": "stream",
     "text": [
      "[(81, 82), (48, 58), (74, 75), (62, 72), (4, 14), (17, 27), (68, 69), (46, 47), (65, 75), (40, 41), (1, 11), (86, 96), (91, 92), (8, 9), (18, 28), (42, 43), (52, 62), (53, 63), (22, 23), (45, 46), (59, 69), (35, 36), (82, 92), (36, 46), (72, 82), (85, 86), (10, 11), (73, 83), (86, 87), (97, 98), (68, 78), (14, 24), (30, 40), (23, 24), (19, 29), (13, 14), (96, 97), (3, 13), (69, 79), (84, 85), (38, 39), (90, 91), (57, 67), (76, 86), (83, 93), (52, 53), (20, 21), (48, 49), (15, 25), (6, 16), (84, 94), (93, 94), (6, 7), (65, 66), (2, 12), (76, 77), (37, 38), (25, 35), (63, 64), (34, 35), (50, 60), (13, 23), (39, 49), (78, 88), (34, 44), (1, 2), (37, 47), (16, 26), (79, 89), (82, 83), (0, 10), (71, 72), (2, 3), (42, 52), (66, 67), (58, 59), (70, 71), (26, 27), (21, 31), (16, 17), (36, 37), (27, 37), (88, 89), (11, 12), (41, 42), (5, 6), (94, 95), (62, 63), (12, 13), (92, 93), (75, 76), (12, 22), (17, 18), (45, 55), (14, 15), (24, 25), (20, 30), (23, 33), (56, 57), (38, 48), (70, 80), (95, 96), (21, 22), (98, 99), (26, 36), (22, 32), (47, 57), (56, 66), (3, 4), (78, 79), (47, 48), (71, 81), (57, 58), (30, 31), (81, 91), (24, 34), (67, 77), (88, 98), (28, 38), (28, 29), (15, 16), (55, 56), (67, 68), (74, 84), (87, 97), (87, 88), (80, 81), (32, 42), (33, 43), (61, 71), (44, 45), (83, 84), (85, 95), (25, 26), (73, 74), (60, 70), (50, 51), (77, 87), (33, 34), (0, 1), (72, 73), (77, 78), (29, 39), (54, 64), (10, 20), (66, 76), (7, 8), (9, 19), (44, 54), (64, 65), (41, 51), (58, 68), (46, 56), (53, 54), (49, 59), (55, 65), (80, 90), (5, 15), (60, 61), (7, 17), (51, 61), (4, 5), (32, 33), (31, 32), (43, 53), (61, 62), (54, 55), (63, 73), (18, 19), (11, 21), (75, 85), (89, 99), (40, 50), (31, 41), (8, 18), (43, 44), (64, 74), (51, 52), (27, 28), (35, 45)]\n"
     ]
    }
   ],
   "source": [
    "# 0 for wall\n",
    "# 1 for empty\n",
    "\n",
    "class Maze():\n",
    "    class disjoint_set_union():\n",
    "        def __init__(self, size):\n",
    "            self.parent = [i for i in range(size)]\n",
    "            self.set_size = [i for i in range(size)]\n",
    "            \n",
    "        def find(self, v):\n",
    "            if self.parent[v] == v:\n",
    "                return v\n",
    "            self.parent[v] = find(self.parent[v])\n",
    "            return self.parent[v]\n",
    "        \n",
    "        def union(self, u, v):\n",
    "            u = self.find(u)\n",
    "            v = self.find(v)\n",
    "            if u != v:\n",
    "                if self.size[v] < self.size[u]:\n",
    "                    u, v = v, u\n",
    "                self.parent[u] = v\n",
    "                self.size[v] += self.size[u]\n",
    "    \n",
    "    class Bitset():\n",
    "        def __init__(self):\n",
    "            self.directions = 0\n",
    "            # 1 is up, 2 is down, 3 is left, 4 is right\n",
    "        \n",
    "        def __contains__(self, direction):\n",
    "            return (self.directions & (1 << direction)) != 0\n",
    "        \n",
    "        def add_direction(self, direction: str):\n",
    "            self.directions |= (1 << direction)\n",
    "    \n",
    "    def build_maze(self):\n",
    "        edge_graph = []\n",
    "        for i in range(len(self.grid)):\n",
    "            for j in range(len(self.grid[0]) - 1):\n",
    "                edge_graph.append((j + i * len(self.grid[0]), j + 1 + i * len(self.grid[0])))\n",
    "        for i in range(len(self.grid) - 1):\n",
    "            for j in range(len(self.grid[0])):\n",
    "                edge_graph.append((j + i * len(self.grid[0]), j + (i + 1) * len(self.grid[0])))\n",
    "                \n",
    "        random.shuffle(edge_graph)\n",
    "        \n",
    "        for u, v in edge_graph:\n",
    "            if self.disjoint_set.find(u) != self.disjoint_set.find(v):\n",
    "                self.disjoint_set.union(u, v)\n",
    "                \n",
    "    \n",
    "    def __init__(self, maze_height, maze_width):\n",
    "        self.maze_height = maze_height\n",
    "        self.maze_width = maze_width\n",
    "        self.grid = [[self.Bitset() for j in range(maze_width)] for i in range(maze_height)]\n",
    "        self.disjoint_set = self.disjoint_set_union(maze_height * maze_width)\n",
    "        self.direction = {\"up\" : 1, \"down\" : 2, \"left\" : 3, \"right\" : 4}\n",
    "        self.build_maze()\n",
    "        \n",
    "\n",
    "\n",
    "# m = Maze(10, 10)"
   ]
  }
 ],
 "metadata": {
  "kernelspec": {
   "display_name": "Python 3",
   "language": "python",
   "name": "python3"
  },
  "language_info": {
   "codemirror_mode": {
    "name": "ipython",
    "version": 3
   },
   "file_extension": ".py",
   "mimetype": "text/x-python",
   "name": "python",
   "nbconvert_exporter": "python",
   "pygments_lexer": "ipython3",
   "version": "3.8.3"
  }
 },
 "nbformat": 4,
 "nbformat_minor": 4
}
